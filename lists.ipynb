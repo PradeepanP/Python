{
 "cells": [
  {
   "cell_type": "code",
   "execution_count": null,
   "id": "fae6b536",
   "metadata": {},
   "outputs": [],
   "source": [
    "# ordered sequnce of objects\n",
    "# mutable"
   ]
  },
  {
   "cell_type": "code",
   "execution_count": 22,
   "id": "5d5084c5",
   "metadata": {},
   "outputs": [],
   "source": [
    "my_list = ['string',101,69.61]"
   ]
  },
  {
   "cell_type": "code",
   "execution_count": 23,
   "id": "5b25f860",
   "metadata": {},
   "outputs": [
    {
     "data": {
      "text/plain": [
       "3"
      ]
     },
     "execution_count": 23,
     "metadata": {},
     "output_type": "execute_result"
    }
   ],
   "source": [
    "len(my_list)"
   ]
  },
  {
   "cell_type": "code",
   "execution_count": 24,
   "id": "5c1acafc",
   "metadata": {},
   "outputs": [],
   "source": [
    "mylist=['hey','hello','hi']"
   ]
  },
  {
   "cell_type": "code",
   "execution_count": 25,
   "id": "db2d38d8",
   "metadata": {},
   "outputs": [
    {
     "data": {
      "text/plain": [
       "'hey'"
      ]
     },
     "execution_count": 25,
     "metadata": {},
     "output_type": "execute_result"
    }
   ],
   "source": [
    "mylist[0]"
   ]
  },
  {
   "cell_type": "code",
   "execution_count": 26,
   "id": "f2036e76",
   "metadata": {},
   "outputs": [
    {
     "data": {
      "text/plain": [
       "['hello', 'hi']"
      ]
     },
     "execution_count": 26,
     "metadata": {},
     "output_type": "execute_result"
    }
   ],
   "source": [
    "mylist[1:]"
   ]
  },
  {
   "cell_type": "code",
   "execution_count": 6,
   "id": "e590cd52",
   "metadata": {},
   "outputs": [],
   "source": [
    "my_list = ['welcome_home']"
   ]
  },
  {
   "cell_type": "code",
   "execution_count": 7,
   "id": "51989847",
   "metadata": {},
   "outputs": [
    {
     "data": {
      "text/plain": [
       "['welcome_home']"
      ]
     },
     "execution_count": 7,
     "metadata": {},
     "output_type": "execute_result"
    }
   ],
   "source": [
    "my_list"
   ]
  },
  {
   "cell_type": "code",
   "execution_count": 8,
   "id": "1f17922a",
   "metadata": {},
   "outputs": [],
   "source": [
    "another_list = ['bud']"
   ]
  },
  {
   "cell_type": "code",
   "execution_count": 9,
   "id": "fbcbf293",
   "metadata": {},
   "outputs": [
    {
     "data": {
      "text/plain": [
       "['bud']"
      ]
     },
     "execution_count": 9,
     "metadata": {},
     "output_type": "execute_result"
    }
   ],
   "source": [
    "another_list"
   ]
  },
  {
   "cell_type": "code",
   "execution_count": 10,
   "id": "a8e77a0f",
   "metadata": {},
   "outputs": [],
   "source": [
    "newlist = my_list + another_list"
   ]
  },
  {
   "cell_type": "code",
   "execution_count": 11,
   "id": "2a11ad9b",
   "metadata": {},
   "outputs": [
    {
     "data": {
      "text/plain": [
       "['welcome_home', 'bud']"
      ]
     },
     "execution_count": 11,
     "metadata": {},
     "output_type": "execute_result"
    }
   ],
   "source": [
    "newlist"
   ]
  },
  {
   "cell_type": "code",
   "execution_count": 12,
   "id": "456f15d7",
   "metadata": {},
   "outputs": [],
   "source": [
    "newlist.append('appended')\n",
    "# append will permanently add the item untill we remove them"
   ]
  },
  {
   "cell_type": "code",
   "execution_count": 13,
   "id": "3625b8ff",
   "metadata": {},
   "outputs": [
    {
     "data": {
      "text/plain": [
       "['welcome_home', 'bud', 'appended']"
      ]
     },
     "execution_count": 13,
     "metadata": {},
     "output_type": "execute_result"
    }
   ],
   "source": [
    "newlist"
   ]
  },
  {
   "cell_type": "code",
   "execution_count": 14,
   "id": "b0a7241b",
   "metadata": {},
   "outputs": [],
   "source": [
    "popped_item = newlist.pop()"
   ]
  },
  {
   "cell_type": "code",
   "execution_count": 15,
   "id": "ddec79c7",
   "metadata": {},
   "outputs": [
    {
     "data": {
      "text/plain": [
       "'appended'"
      ]
     },
     "execution_count": 15,
     "metadata": {},
     "output_type": "execute_result"
    }
   ],
   "source": [
    "popped_item"
   ]
  },
  {
   "cell_type": "code",
   "execution_count": 16,
   "id": "95b03f02",
   "metadata": {},
   "outputs": [
    {
     "data": {
      "text/plain": [
       "['welcome_home', 'bud']"
      ]
     },
     "execution_count": 16,
     "metadata": {},
     "output_type": "execute_result"
    }
   ],
   "source": [
    "newlist"
   ]
  },
  {
   "cell_type": "code",
   "execution_count": 17,
   "id": "0ee97efe",
   "metadata": {},
   "outputs": [
    {
     "data": {
      "text/plain": [
       "'bud'"
      ]
     },
     "execution_count": 17,
     "metadata": {},
     "output_type": "execute_result"
    }
   ],
   "source": [
    "newlist.pop(1)"
   ]
  },
  {
   "cell_type": "code",
   "execution_count": 18,
   "id": "e82a7be8",
   "metadata": {},
   "outputs": [],
   "source": [
    "list=[1,6,3,9,2]"
   ]
  },
  {
   "cell_type": "code",
   "execution_count": 19,
   "id": "78081fc2",
   "metadata": {},
   "outputs": [],
   "source": [
    "list.sort()"
   ]
  },
  {
   "cell_type": "code",
   "execution_count": 20,
   "id": "eee5b41b",
   "metadata": {},
   "outputs": [
    {
     "data": {
      "text/plain": [
       "[1, 2, 3, 6, 9]"
      ]
     },
     "execution_count": 20,
     "metadata": {},
     "output_type": "execute_result"
    }
   ],
   "source": [
    "list"
   ]
  },
  {
   "cell_type": "code",
   "execution_count": 21,
   "id": "a47a4bb2",
   "metadata": {},
   "outputs": [],
   "source": [
    "list.reverse()"
   ]
  },
  {
   "cell_type": "code",
   "execution_count": 22,
   "id": "4efc258a",
   "metadata": {},
   "outputs": [
    {
     "data": {
      "text/plain": [
       "[9, 6, 3, 2, 1]"
      ]
     },
     "execution_count": 22,
     "metadata": {},
     "output_type": "execute_result"
    }
   ],
   "source": [
    "list"
   ]
  },
  {
   "cell_type": "code",
   "execution_count": 24,
   "id": "5f42745e",
   "metadata": {},
   "outputs": [],
   "source": [
    "newlist.append('everyone')"
   ]
  },
  {
   "cell_type": "code",
   "execution_count": 25,
   "id": "61b5401d",
   "metadata": {},
   "outputs": [
    {
     "data": {
      "text/plain": [
       "['welcome_home', 'everyone']"
      ]
     },
     "execution_count": 25,
     "metadata": {},
     "output_type": "execute_result"
    }
   ],
   "source": [
    "newlist"
   ]
  },
  {
   "cell_type": "code",
   "execution_count": 26,
   "id": "904f48cb",
   "metadata": {},
   "outputs": [
    {
     "data": {
      "text/plain": [
       "'everyone'"
      ]
     },
     "execution_count": 26,
     "metadata": {},
     "output_type": "execute_result"
    }
   ],
   "source": [
    "newlist[1]"
   ]
  },
  {
   "cell_type": "code",
   "execution_count": 32,
   "id": "96d210ba",
   "metadata": {},
   "outputs": [],
   "source": [
    "mylist = newlist[1] = 'all'"
   ]
  },
  {
   "cell_type": "code",
   "execution_count": null,
   "id": "62c799a0",
   "metadata": {},
   "outputs": [],
   "source": [
    "my"
   ]
  }
 ],
 "metadata": {
  "kernelspec": {
   "display_name": "Python 3 (ipykernel)",
   "language": "python",
   "name": "python3"
  },
  "language_info": {
   "codemirror_mode": {
    "name": "ipython",
    "version": 3
   },
   "file_extension": ".py",
   "mimetype": "text/x-python",
   "name": "python",
   "nbconvert_exporter": "python",
   "pygments_lexer": "ipython3",
   "version": "3.9.13"
  }
 },
 "nbformat": 4,
 "nbformat_minor": 5
}
