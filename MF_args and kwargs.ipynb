{
 "cells": [
  {
   "cell_type": "code",
   "execution_count": 1,
   "id": "71ea575d",
   "metadata": {},
   "outputs": [],
   "source": [
    "def func(*args): # user can pass as many as they want it will treated as tuple\n",
    "    return sum(args)"
   ]
  },
  {
   "cell_type": "code",
   "execution_count": 3,
   "id": "fcf5e135",
   "metadata": {},
   "outputs": [
    {
     "data": {
      "text/plain": [
       "15"
      ]
     },
     "execution_count": 3,
     "metadata": {},
     "output_type": "execute_result"
    }
   ],
   "source": [
    "func(1,2,3,4,5)"
   ]
  },
  {
   "cell_type": "code",
   "execution_count": 4,
   "id": "fefb6313",
   "metadata": {},
   "outputs": [],
   "source": [
    "def myfunc(*args):\n",
    "    for i in args:\n",
    "        print(i)"
   ]
  },
  {
   "cell_type": "code",
   "execution_count": 6,
   "id": "5574026b",
   "metadata": {},
   "outputs": [
    {
     "name": "stdout",
     "output_type": "stream",
     "text": [
      "1\n",
      "2\n",
      "3\n",
      "4\n",
      "5\n",
      "6\n"
     ]
    }
   ],
   "source": [
    "myfunc(1,2,3,4,5,6)"
   ]
  },
  {
   "cell_type": "code",
   "execution_count": null,
   "id": "59556ed3",
   "metadata": {},
   "outputs": [],
   "source": [
    "# key word arguments #(**kwargs) returns dictionary\n",
    "# allows to call the dictionary anywhere we want"
   ]
  },
  {
   "cell_type": "code",
   "execution_count": 15,
   "id": "328f7bce",
   "metadata": {},
   "outputs": [],
   "source": [
    "def function(**kwargs):\n",
    "    if 'car' in kwargs:\n",
    "        print('the car i  like is {}'.format(kwargs['car']))\n",
    "    else:\n",
    "        print('There is no fav car')"
   ]
  },
  {
   "cell_type": "code",
   "execution_count": 16,
   "id": "6e0562a5",
   "metadata": {},
   "outputs": [
    {
     "name": "stdout",
     "output_type": "stream",
     "text": [
      "the car i  like is porsche 911\n"
     ]
    }
   ],
   "source": [
    "function(car = 'porsche 911')"
   ]
  },
  {
   "cell_type": "code",
   "execution_count": 12,
   "id": "aed13c90",
   "metadata": {},
   "outputs": [],
   "source": [
    "def myfunc1(in_str):\n",
    "    my_string = ''\n",
    "    for i in range(len(in_str)):\n",
    "        if i%2 == 0:\n",
    "            my_string += in_str[i].upper()\n",
    "        else:\n",
    "            my_string += in_str[i].lower()\n",
    "    return my_string"
   ]
  },
  {
   "cell_type": "code",
   "execution_count": 13,
   "id": "3c9c060e",
   "metadata": {
    "scrolled": true
   },
   "outputs": [
    {
     "data": {
      "text/plain": [
       "'AnKdDkNfLfSd'"
      ]
     },
     "execution_count": 13,
     "metadata": {},
     "output_type": "execute_result"
    }
   ],
   "source": [
    "myfunc1('Ankddknflfsd')"
   ]
  },
  {
   "cell_type": "code",
   "execution_count": null,
   "id": "3e840ec3",
   "metadata": {},
   "outputs": [],
   "source": []
  }
 ],
 "metadata": {
  "kernelspec": {
   "display_name": "Python 3 (ipykernel)",
   "language": "python",
   "name": "python3"
  },
  "language_info": {
   "codemirror_mode": {
    "name": "ipython",
    "version": 3
   },
   "file_extension": ".py",
   "mimetype": "text/x-python",
   "name": "python",
   "nbconvert_exporter": "python",
   "pygments_lexer": "ipython3",
   "version": "3.9.13"
  }
 },
 "nbformat": 4,
 "nbformat_minor": 5
}
