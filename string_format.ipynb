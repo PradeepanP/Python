{
 "cells": [
  {
   "cell_type": "code",
   "execution_count": 2,
   "id": "1800bf94",
   "metadata": {},
   "outputs": [
    {
     "name": "stdout",
     "output_type": "stream",
     "text": [
      "this is string inserted by me\n"
     ]
    }
   ],
   "source": [
    "print(\"this is {} inserted by me\".format(\"string\"))"
   ]
  },
  {
   "cell_type": "code",
   "execution_count": 3,
   "id": "d0f5c667",
   "metadata": {},
   "outputs": [
    {
     "name": "stdout",
     "output_type": "stream",
     "text": [
      "the sky is blue\n"
     ]
    }
   ],
   "source": [
    "print('the {} {} {}'.format('sky','is','blue'))"
   ]
  },
  {
   "cell_type": "code",
   "execution_count": 4,
   "id": "6eb11596",
   "metadata": {},
   "outputs": [
    {
     "name": "stdout",
     "output_type": "stream",
     "text": [
      "the blue is sky\n"
     ]
    }
   ],
   "source": [
    "print('the {2} {1} {0}'.format('sky','is','blue'))"
   ]
  },
  {
   "cell_type": "code",
   "execution_count": 5,
   "id": "5bac6a9f",
   "metadata": {},
   "outputs": [
    {
     "name": "stdout",
     "output_type": "stream",
     "text": [
      "the sky is blue\n"
     ]
    }
   ],
   "source": [
    "print('the {s} {i} {b}'.format(s='sky',i='is',b='blue'))\n",
    "# this method is more readable and understandable"
   ]
  },
  {
   "cell_type": "code",
   "execution_count": 6,
   "id": "315c100a",
   "metadata": {},
   "outputs": [],
   "source": [
    "res = 10/7"
   ]
  },
  {
   "cell_type": "code",
   "execution_count": 7,
   "id": "89badd2c",
   "metadata": {},
   "outputs": [
    {
     "data": {
      "text/plain": [
       "1.4285714285714286"
      ]
     },
     "execution_count": 7,
     "metadata": {},
     "output_type": "execute_result"
    }
   ],
   "source": [
    "res"
   ]
  },
  {
   "cell_type": "code",
   "execution_count": 8,
   "id": "b9b07044",
   "metadata": {},
   "outputs": [
    {
     "name": "stdout",
     "output_type": "stream",
     "text": [
      "the result 1.42857\n"
     ]
    }
   ],
   "source": [
    "print('the result {r:2.5f}'.format(r=res))\n",
    "# float formatting {value:width(gap).precision f}"
   ]
  },
  {
   "cell_type": "code",
   "execution_count": 11,
   "id": "df4d56d6",
   "metadata": {},
   "outputs": [],
   "source": [
    "name = 'jose'"
   ]
  },
  {
   "cell_type": "code",
   "execution_count": 12,
   "id": "9947438c",
   "metadata": {},
   "outputs": [
    {
     "name": "stdout",
     "output_type": "stream",
     "text": [
      "hello my name is jose\n"
     ]
    }
   ],
   "source": [
    "print('hello my name is {}'.format(name))"
   ]
  },
  {
   "cell_type": "code",
   "execution_count": 13,
   "id": "a8affa85",
   "metadata": {},
   "outputs": [
    {
     "name": "stdout",
     "output_type": "stream",
     "text": [
      "hello my name is jose \n"
     ]
    }
   ],
   "source": [
    "print(f'hello my name is {name} ')\n",
    "# shortcut syntax for .format "
   ]
  }
 ],
 "metadata": {
  "kernelspec": {
   "display_name": "Python 3 (ipykernel)",
   "language": "python",
   "name": "python3"
  },
  "language_info": {
   "codemirror_mode": {
    "name": "ipython",
    "version": 3
   },
   "file_extension": ".py",
   "mimetype": "text/x-python",
   "name": "python",
   "nbconvert_exporter": "python",
   "pygments_lexer": "ipython3",
   "version": "3.9.13"
  }
 },
 "nbformat": 4,
 "nbformat_minor": 5
}
