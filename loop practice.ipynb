{
 "cells": [
  {
   "cell_type": "code",
   "execution_count": 30,
   "id": "697b6caa",
   "metadata": {},
   "outputs": [
    {
     "data": {
      "text/plain": [
       "[3, 6, 9, 12, 15, 18, 21, 24, 27, 30, 33, 36, 39, 42, 45, 48]"
      ]
     },
     "execution_count": 30,
     "metadata": {},
     "output_type": "execute_result"
    }
   ],
   "source": [
    "[x for x in range(1,51) if x%3 == 0]"
   ]
  },
  {
   "cell_type": "code",
   "execution_count": 22,
   "id": "bdde36de",
   "metadata": {},
   "outputs": [],
   "source": [
    "st = \"hello Aaron how are you doing I am doing good and how's life\""
   ]
  },
  {
   "cell_type": "code",
   "execution_count": 23,
   "id": "28ac24e1",
   "metadata": {},
   "outputs": [
    {
     "data": {
      "text/plain": [
       "\"hello Aaron how are you doing I am doing good and how's life\""
      ]
     },
     "execution_count": 23,
     "metadata": {},
     "output_type": "execute_result"
    }
   ],
   "source": [
    "st"
   ]
  },
  {
   "cell_type": "code",
   "execution_count": 24,
   "id": "166ea0b8",
   "metadata": {},
   "outputs": [
    {
     "data": {
      "text/plain": [
       "['hello',\n",
       " 'Aaron',\n",
       " 'how',\n",
       " 'are',\n",
       " 'you',\n",
       " 'doing',\n",
       " 'I',\n",
       " 'am',\n",
       " 'doing',\n",
       " 'good',\n",
       " 'and',\n",
       " \"how's\",\n",
       " 'life']"
      ]
     },
     "execution_count": 24,
     "metadata": {},
     "output_type": "execute_result"
    }
   ],
   "source": [
    "st.split()"
   ]
  },
  {
   "cell_type": "code",
   "execution_count": 25,
   "id": "e0baa020",
   "metadata": {},
   "outputs": [
    {
     "name": "stdout",
     "output_type": "stream",
     "text": [
      "hello\n",
      "Aaron\n",
      "how\n",
      "are\n",
      "you\n",
      "doing\n",
      "I\n",
      "am\n",
      "doing\n",
      "good\n",
      "and\n",
      "how's\n",
      "life\n"
     ]
    }
   ],
   "source": [
    "for word in st.split():\n",
    "    print(word)"
   ]
  },
  {
   "cell_type": "code",
   "execution_count": 27,
   "id": "026ecb46",
   "metadata": {},
   "outputs": [
    {
     "name": "stdout",
     "output_type": "stream",
     "text": [
      "Aaron\n",
      "are\n",
      "am\n",
      "and\n"
     ]
    }
   ],
   "source": [
    "for word in st.split():\n",
    "    if word[0].lower() == 'a': # usage of .lower for Capital letters\n",
    "        print(word)"
   ]
  },
  {
   "cell_type": "code",
   "execution_count": 31,
   "id": "bc3892e6",
   "metadata": {},
   "outputs": [
    {
     "name": "stdout",
     "output_type": "stream",
     "text": [
      "am\n",
      "good\n",
      "life\n"
     ]
    }
   ],
   "source": [
    "for word in st.split():\n",
    "    if len(word)%2 == 0:\n",
    "        print(word)"
   ]
  },
  {
   "cell_type": "code",
   "execution_count": 36,
   "id": "cb8449f7",
   "metadata": {},
   "outputs": [
    {
     "data": {
      "text/plain": [
       "['h', 'A', 'h', 'a', 'y', 'd', 'I', 'a', 'd', 'g', 'a', 'h', 'l']"
      ]
     },
     "execution_count": 36,
     "metadata": {},
     "output_type": "execute_result"
    }
   ],
   "source": [
    "[x[0] for x in st.split() ]"
   ]
  },
  {
   "cell_type": "code",
   "execution_count": null,
   "id": "ea99fa27",
   "metadata": {},
   "outputs": [],
   "source": []
  }
 ],
 "metadata": {
  "kernelspec": {
   "display_name": "Python 3 (ipykernel)",
   "language": "python",
   "name": "python3"
  },
  "language_info": {
   "codemirror_mode": {
    "name": "ipython",
    "version": 3
   },
   "file_extension": ".py",
   "mimetype": "text/x-python",
   "name": "python",
   "nbconvert_exporter": "python",
   "pygments_lexer": "ipython3",
   "version": "3.9.13"
  }
 },
 "nbformat": 4,
 "nbformat_minor": 5
}
