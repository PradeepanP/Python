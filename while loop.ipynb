{
 "cells": [
  {
   "cell_type": "code",
   "execution_count": 7,
   "id": "c32fd0f1",
   "metadata": {},
   "outputs": [],
   "source": [
    "# While loop\n",
    "# it executes some block of code until the condition remains true\n",
    "# Syntax is While some_condition:\n",
    "# break - breaks out the current closest enclosing loop\n",
    "# continue - goes to top of the closest enclosing loop\n",
    "# pass - does nothing at all"
   ]
  },
  {
   "cell_type": "code",
   "execution_count": 8,
   "id": "e6e84cd3",
   "metadata": {},
   "outputs": [
    {
     "name": "stdout",
     "output_type": "stream",
     "text": [
      "h\n",
      "e\n",
      "o\n",
      " \n",
      "w\n",
      "o\n",
      "r\n",
      "d\n"
     ]
    }
   ],
   "source": [
    "my_string = 'hello world'\n",
    "for i in my_string:\n",
    "    if i == 'l':\n",
    "        continue # goes to top of the loop\n",
    "    print(i)"
   ]
  },
  {
   "cell_type": "code",
   "execution_count": 9,
   "id": "cab6aac3",
   "metadata": {},
   "outputs": [
    {
     "name": "stdout",
     "output_type": "stream",
     "text": [
      "l\n",
      "l\n"
     ]
    }
   ],
   "source": [
    "my_str = 'hello'\n",
    "for i in my_str:\n",
    "    if i == \"l\":\n",
    "        print(i)\n",
    "    else:\n",
    "        pass"
   ]
  },
  {
   "cell_type": "code",
   "execution_count": 10,
   "id": "057d2226",
   "metadata": {},
   "outputs": [],
   "source": [
    "x = 5"
   ]
  },
  {
   "cell_type": "code",
   "execution_count": 13,
   "id": "a50591e3",
   "metadata": {},
   "outputs": [],
   "source": [
    "while x < 5:\n",
    "    print(x)"
   ]
  }
 ],
 "metadata": {
  "kernelspec": {
   "display_name": "Python 3 (ipykernel)",
   "language": "python",
   "name": "python3"
  },
  "language_info": {
   "codemirror_mode": {
    "name": "ipython",
    "version": 3
   },
   "file_extension": ".py",
   "mimetype": "text/x-python",
   "name": "python",
   "nbconvert_exporter": "python",
   "pygments_lexer": "ipython3",
   "version": "3.9.13"
  }
 },
 "nbformat": 4,
 "nbformat_minor": 5
}
