{
 "cells": [
  {
   "cell_type": "code",
   "execution_count": null,
   "id": "646ee963",
   "metadata": {},
   "outputs": [],
   "source": [
    "# Python objects and Data structues"
   ]
  },
  {
   "cell_type": "code",
   "execution_count": null,
   "id": "53e44ab5",
   "metadata": {},
   "outputs": [],
   "source": [
    "# NUMBERS\n",
    "# stores numerical information\n",
    "# two types\n",
    "# int - whole numbers\n",
    "# float - numbers with a decimal"
   ]
  },
  {
   "cell_type": "code",
   "execution_count": 2,
   "id": "db918770",
   "metadata": {},
   "outputs": [],
   "source": [
    "x = 1/4 + (4-2)**2 *25"
   ]
  },
  {
   "cell_type": "code",
   "execution_count": 3,
   "id": "f2acd697",
   "metadata": {},
   "outputs": [
    {
     "data": {
      "text/plain": [
       "100.25"
      ]
     },
     "execution_count": 3,
     "metadata": {},
     "output_type": "execute_result"
    }
   ],
   "source": [
    "x"
   ]
  },
  {
   "cell_type": "code",
   "execution_count": 4,
   "id": "34cc52f8",
   "metadata": {},
   "outputs": [],
   "source": [
    "val = 4 * (6+5)"
   ]
  },
  {
   "cell_type": "code",
   "execution_count": 5,
   "id": "751a5269",
   "metadata": {},
   "outputs": [
    {
     "data": {
      "text/plain": [
       "44"
      ]
     },
     "execution_count": 5,
     "metadata": {},
     "output_type": "execute_result"
    }
   ],
   "source": [
    "val"
   ]
  },
  {
   "cell_type": "code",
   "execution_count": 6,
   "id": "0f50fb09",
   "metadata": {},
   "outputs": [],
   "source": [
    "val1 = 4 * 6 +5"
   ]
  },
  {
   "cell_type": "code",
   "execution_count": 7,
   "id": "fa99e91c",
   "metadata": {},
   "outputs": [
    {
     "data": {
      "text/plain": [
       "29"
      ]
     },
     "execution_count": 7,
     "metadata": {},
     "output_type": "execute_result"
    }
   ],
   "source": [
    "val1"
   ]
  },
  {
   "cell_type": "code",
   "execution_count": 8,
   "id": "275c137b",
   "metadata": {},
   "outputs": [],
   "source": [
    "val2= 4 + 6 * 5"
   ]
  },
  {
   "cell_type": "code",
   "execution_count": 9,
   "id": "a8dde670",
   "metadata": {},
   "outputs": [
    {
     "data": {
      "text/plain": [
       "34"
      ]
     },
     "execution_count": 9,
     "metadata": {},
     "output_type": "execute_result"
    }
   ],
   "source": [
    "val2"
   ]
  },
  {
   "cell_type": "code",
   "execution_count": 10,
   "id": "c571020a",
   "metadata": {},
   "outputs": [],
   "source": [
    "dt = 3 + 1.5 + 4"
   ]
  },
  {
   "cell_type": "code",
   "execution_count": 11,
   "id": "eaf96ade",
   "metadata": {},
   "outputs": [
    {
     "data": {
      "text/plain": [
       "8.5"
      ]
     },
     "execution_count": 11,
     "metadata": {},
     "output_type": "execute_result"
    }
   ],
   "source": [
    "dt"
   ]
  },
  {
   "cell_type": "code",
   "execution_count": 12,
   "id": "3028d652",
   "metadata": {},
   "outputs": [
    {
     "data": {
      "text/plain": [
       "float"
      ]
     },
     "execution_count": 12,
     "metadata": {},
     "output_type": "execute_result"
    }
   ],
   "source": [
    "type(dt)"
   ]
  },
  {
   "cell_type": "code",
   "execution_count": null,
   "id": "a20115fc",
   "metadata": {},
   "outputs": [],
   "source": [
    "# strings"
   ]
  },
  {
   "cell_type": "code",
   "execution_count": 16,
   "id": "abd7bbd1",
   "metadata": {},
   "outputs": [],
   "source": [
    "s = 'hello'"
   ]
  },
  {
   "cell_type": "code",
   "execution_count": 17,
   "id": "32bb7c14",
   "metadata": {},
   "outputs": [
    {
     "data": {
      "text/plain": [
       "'e'"
      ]
     },
     "execution_count": 17,
     "metadata": {},
     "output_type": "execute_result"
    }
   ],
   "source": [
    "s[1]"
   ]
  },
  {
   "cell_type": "code",
   "execution_count": 18,
   "id": "5e837a14",
   "metadata": {},
   "outputs": [
    {
     "data": {
      "text/plain": [
       "'olleh'"
      ]
     },
     "execution_count": 18,
     "metadata": {},
     "output_type": "execute_result"
    }
   ],
   "source": [
    "s[::-1]"
   ]
  },
  {
   "cell_type": "code",
   "execution_count": 19,
   "id": "31b46d02",
   "metadata": {},
   "outputs": [
    {
     "data": {
      "text/plain": [
       "'o'"
      ]
     },
     "execution_count": 19,
     "metadata": {},
     "output_type": "execute_result"
    }
   ],
   "source": [
    "s[4]"
   ]
  },
  {
   "cell_type": "code",
   "execution_count": 20,
   "id": "e948c0be",
   "metadata": {},
   "outputs": [
    {
     "data": {
      "text/plain": [
       "'o'"
      ]
     },
     "execution_count": 20,
     "metadata": {},
     "output_type": "execute_result"
    }
   ],
   "source": [
    "s[-1]"
   ]
  },
  {
   "cell_type": "code",
   "execution_count": 22,
   "id": "b094f5d1",
   "metadata": {},
   "outputs": [],
   "source": [
    "mylist = []"
   ]
  },
  {
   "cell_type": "code",
   "execution_count": 23,
   "id": "8c120c4e",
   "metadata": {},
   "outputs": [],
   "source": [
    "mylist.append(0)"
   ]
  },
  {
   "cell_type": "code",
   "execution_count": 24,
   "id": "8cba4686",
   "metadata": {},
   "outputs": [
    {
     "data": {
      "text/plain": [
       "[0]"
      ]
     },
     "execution_count": 24,
     "metadata": {},
     "output_type": "execute_result"
    }
   ],
   "source": [
    "mylist"
   ]
  },
  {
   "cell_type": "code",
   "execution_count": 26,
   "id": "c99af855",
   "metadata": {},
   "outputs": [],
   "source": [
    "mylist.append(0)"
   ]
  },
  {
   "cell_type": "code",
   "execution_count": 27,
   "id": "c199a0c7",
   "metadata": {},
   "outputs": [],
   "source": [
    "mylist.append(0)"
   ]
  },
  {
   "cell_type": "code",
   "execution_count": 28,
   "id": "9ef48b88",
   "metadata": {},
   "outputs": [
    {
     "data": {
      "text/plain": [
       "[0, 0, 0]"
      ]
     },
     "execution_count": 28,
     "metadata": {},
     "output_type": "execute_result"
    }
   ],
   "source": [
    "mylist"
   ]
  },
  {
   "cell_type": "code",
   "execution_count": 53,
   "id": "17876487",
   "metadata": {},
   "outputs": [],
   "source": [
    "mylist1 = []"
   ]
  },
  {
   "cell_type": "code",
   "execution_count": 54,
   "id": "d9a93f4b",
   "metadata": {},
   "outputs": [],
   "source": [
    "mylist1.insert(0,0)"
   ]
  },
  {
   "cell_type": "code",
   "execution_count": 55,
   "id": "9c059475",
   "metadata": {},
   "outputs": [
    {
     "data": {
      "text/plain": [
       "[0]"
      ]
     },
     "execution_count": 55,
     "metadata": {},
     "output_type": "execute_result"
    }
   ],
   "source": [
    "mylist1"
   ]
  },
  {
   "cell_type": "code",
   "execution_count": 56,
   "id": "efd7416e",
   "metadata": {},
   "outputs": [],
   "source": [
    "mylist1.insert(0,0)"
   ]
  },
  {
   "cell_type": "code",
   "execution_count": 57,
   "id": "3cb8fd14",
   "metadata": {},
   "outputs": [
    {
     "data": {
      "text/plain": [
       "[0, 0]"
      ]
     },
     "execution_count": 57,
     "metadata": {},
     "output_type": "execute_result"
    }
   ],
   "source": [
    "mylist1"
   ]
  },
  {
   "cell_type": "code",
   "execution_count": 59,
   "id": "f478583e",
   "metadata": {},
   "outputs": [],
   "source": [
    "mylist1.insert(0,2)"
   ]
  },
  {
   "cell_type": "code",
   "execution_count": 60,
   "id": "31101864",
   "metadata": {},
   "outputs": [
    {
     "data": {
      "text/plain": [
       "[2, 0, 0]"
      ]
     },
     "execution_count": 60,
     "metadata": {},
     "output_type": "execute_result"
    }
   ],
   "source": [
    "mylist1"
   ]
  },
  {
   "cell_type": "code",
   "execution_count": 61,
   "id": "07589ebf",
   "metadata": {},
   "outputs": [],
   "source": [
    "mylist1[0] = 0"
   ]
  },
  {
   "cell_type": "code",
   "execution_count": 62,
   "id": "b5d343a7",
   "metadata": {},
   "outputs": [
    {
     "data": {
      "text/plain": [
       "[0, 0, 0]"
      ]
     },
     "execution_count": 62,
     "metadata": {},
     "output_type": "execute_result"
    }
   ],
   "source": [
    "mylist1"
   ]
  },
  {
   "cell_type": "code",
   "execution_count": 63,
   "id": "81ad0cce",
   "metadata": {},
   "outputs": [],
   "source": [
    "list3 = [1,2,[3,4,'hello']]"
   ]
  },
  {
   "cell_type": "code",
   "execution_count": 64,
   "id": "b55af160",
   "metadata": {},
   "outputs": [],
   "source": [
    "list3[2][2] = 'goodbye'"
   ]
  },
  {
   "cell_type": "code",
   "execution_count": 65,
   "id": "90d55e7e",
   "metadata": {},
   "outputs": [
    {
     "data": {
      "text/plain": [
       "[1, 2, [3, 4, 'goodbye']]"
      ]
     },
     "execution_count": 65,
     "metadata": {},
     "output_type": "execute_result"
    }
   ],
   "source": [
    "list3"
   ]
  },
  {
   "cell_type": "code",
   "execution_count": 66,
   "id": "7e325b6c",
   "metadata": {},
   "outputs": [],
   "source": [
    "list4 = [5,3,4,6,1]"
   ]
  },
  {
   "cell_type": "code",
   "execution_count": 67,
   "id": "ec35d5e7",
   "metadata": {},
   "outputs": [],
   "source": [
    "list4.sort()"
   ]
  },
  {
   "cell_type": "code",
   "execution_count": 68,
   "id": "c254516c",
   "metadata": {},
   "outputs": [
    {
     "data": {
      "text/plain": [
       "[1, 3, 4, 5, 6]"
      ]
     },
     "execution_count": 68,
     "metadata": {},
     "output_type": "execute_result"
    }
   ],
   "source": [
    "list4"
   ]
  },
  {
   "cell_type": "code",
   "execution_count": null,
   "id": "eeafd43a",
   "metadata": {},
   "outputs": [],
   "source": [
    "# dict"
   ]
  },
  {
   "cell_type": "code",
   "execution_count": 13,
   "id": "01c3df56",
   "metadata": {},
   "outputs": [],
   "source": [
    "d = {'key1':{'key2':'hello'}}  "
   ]
  },
  {
   "cell_type": "code",
   "execution_count": 15,
   "id": "29ff9a38",
   "metadata": {
    "scrolled": true
   },
   "outputs": [
    {
     "data": {
      "text/plain": [
       "'hello'"
      ]
     },
     "execution_count": 15,
     "metadata": {},
     "output_type": "execute_result"
    }
   ],
   "source": [
    "d['key1']['key2']"
   ]
  },
  {
   "cell_type": "code",
   "execution_count": 70,
   "id": "bc954eb2",
   "metadata": {},
   "outputs": [],
   "source": [
    "d1 = {'k1':[{'nest_key':['this is deep',['hello']]}]} "
   ]
  },
  {
   "cell_type": "code",
   "execution_count": 76,
   "id": "2c639150",
   "metadata": {},
   "outputs": [
    {
     "data": {
      "text/plain": [
       "'hello'"
      ]
     },
     "execution_count": 76,
     "metadata": {},
     "output_type": "execute_result"
    }
   ],
   "source": [
    "d1['k1'][0]['nest_key'][1][0]"
   ]
  },
  {
   "cell_type": "code",
   "execution_count": null,
   "id": "f35d29fc",
   "metadata": {},
   "outputs": [],
   "source": []
  }
 ],
 "metadata": {
  "kernelspec": {
   "display_name": "Python 3 (ipykernel)",
   "language": "python",
   "name": "python3"
  },
  "language_info": {
   "codemirror_mode": {
    "name": "ipython",
    "version": 3
   },
   "file_extension": ".py",
   "mimetype": "text/x-python",
   "name": "python",
   "nbconvert_exporter": "python",
   "pygments_lexer": "ipython3",
   "version": "3.9.13"
  }
 },
 "nbformat": 4,
 "nbformat_minor": 5
}
