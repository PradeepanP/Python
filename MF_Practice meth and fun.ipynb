{
 "cells": [
  {
   "cell_type": "code",
   "execution_count": 6,
   "id": "cf6365a9",
   "metadata": {},
   "outputs": [],
   "source": [
    "def lesser_of_two_evens(a,b):\n",
    "    if a%2 == 0 and b%2 == 0:\n",
    "        if a>b:\n",
    "            return b\n",
    "        else:\n",
    "            return a\n",
    "    elif a%2 != 0 or b%2 != 0:\n",
    "        if a>b:\n",
    "            return a\n",
    "        else:\n",
    "            return b"
   ]
  },
  {
   "cell_type": "code",
   "execution_count": 7,
   "id": "16a04667",
   "metadata": {},
   "outputs": [
    {
     "data": {
      "text/plain": [
       "5"
      ]
     },
     "execution_count": 7,
     "metadata": {},
     "output_type": "execute_result"
    }
   ],
   "source": [
    "lesser_of_two_evens(2,5)"
   ]
  },
  {
   "cell_type": "code",
   "execution_count": 23,
   "id": "fa04386b",
   "metadata": {},
   "outputs": [],
   "source": [
    "def animal_crackers(int_string):\n",
    "    word = int_string.split()\n",
    "    #print(word)\n",
    "    if len(word) != 2:\n",
    "        return False\n",
    "    elif word[0][0].lower() == word[1][0].lower():\n",
    "        return True\n",
    "    else:\n",
    "        return False"
   ]
  },
  {
   "cell_type": "code",
   "execution_count": 24,
   "id": "bf0e1c5f",
   "metadata": {},
   "outputs": [
    {
     "data": {
      "text/plain": [
       "True"
      ]
     },
     "execution_count": 24,
     "metadata": {},
     "output_type": "execute_result"
    }
   ],
   "source": [
    "animal_crackers('Eating elephant')"
   ]
  },
  {
   "cell_type": "code",
   "execution_count": 25,
   "id": "d6688a4c",
   "metadata": {},
   "outputs": [],
   "source": [
    "def makes_twenty(a,b):\n",
    "    if a == 20 or b == 20:\n",
    "        return True\n",
    "    elif sum(a,b) == 20:\n",
    "        return True\n",
    "    else:\n",
    "        return False"
   ]
  },
  {
   "cell_type": "code",
   "execution_count": 27,
   "id": "2e1ff4b2",
   "metadata": {},
   "outputs": [
    {
     "data": {
      "text/plain": [
       "True"
      ]
     },
     "execution_count": 27,
     "metadata": {},
     "output_type": "execute_result"
    }
   ],
   "source": [
    "makes_twenty(20,1)"
   ]
  },
  {
   "cell_type": "code",
   "execution_count": 28,
   "id": "63f06524",
   "metadata": {},
   "outputs": [],
   "source": [
    "def old_macdonald(name):\n",
    "    if len(name) > 3:\n",
    "        return name[:3].capitalize() + name[3:].capitalize()\n",
    "    else:\n",
    "        return None"
   ]
  },
  {
   "cell_type": "code",
   "execution_count": 29,
   "id": "a3ec8ea7",
   "metadata": {},
   "outputs": [
    {
     "data": {
      "text/plain": [
       "'MacDonald'"
      ]
     },
     "execution_count": 29,
     "metadata": {},
     "output_type": "execute_result"
    }
   ],
   "source": [
    "old_macdonald('macdonald')"
   ]
  },
  {
   "cell_type": "code",
   "execution_count": 126,
   "id": "f056dfa3",
   "metadata": {},
   "outputs": [],
   "source": [
    "def master_yoda(sentence):\n",
    "    #return ''.join(sentence.split()[::-1])\n",
    "    sep_sent = sentence.split()\n",
    "    string1 =''\n",
    "    length = 0\n",
    "    for i in sep_sent:\n",
    "        length +=1\n",
    "    for word in range(length-1,-1,-1):\n",
    "        string1 += sep_sent[word]\n",
    "        if word > 0:\n",
    "            string1 += ' '\n",
    "    return string1 "
   ]
  },
  {
   "cell_type": "code",
   "execution_count": 128,
   "id": "486da648",
   "metadata": {},
   "outputs": [
    {
     "data": {
      "text/plain": [
       "'ready are We'"
      ]
     },
     "execution_count": 128,
     "metadata": {},
     "output_type": "execute_result"
    }
   ],
   "source": [
    "master_yoda('We are ready')"
   ]
  },
  {
   "cell_type": "code",
   "execution_count": 61,
   "id": "58f93a6e",
   "metadata": {},
   "outputs": [],
   "source": [
    "def reverse_words_custom(sentence):\n",
    "    reversed_sentence = ''\n",
    "    word = ''\n",
    "    is_word = False\n",
    "\n",
    "    for char in sentence:\n",
    "        if char.isalpha() or char == ',':\n",
    "            word = char + word\n",
    "            is_word = True\n",
    "        else:\n",
    "            if is_word:\n",
    "                reversed_sentence += word\n",
    "                is_word = False\n",
    "                word = ''\n",
    "            reversed_sentence += char\n",
    "\n",
    "    if is_word:\n",
    "        reversed_sentence += word\n",
    "\n",
    "    return reversed_sentence"
   ]
  },
  {
   "cell_type": "code",
   "execution_count": 66,
   "id": "75eca2a5",
   "metadata": {},
   "outputs": [
    {
     "data": {
      "text/plain": [
       "',olleh ih'"
      ]
     },
     "execution_count": 66,
     "metadata": {},
     "output_type": "execute_result"
    }
   ],
   "source": [
    "reverse_words_custom('hello, hi')"
   ]
  },
  {
   "cell_type": "code",
   "execution_count": 136,
   "id": "318255c0",
   "metadata": {},
   "outputs": [],
   "source": [
    "def almost_there(n): \n",
    "    # abs give the absolute value like getting a non-negative from negative for a number\n",
    "    return (abs(100-n) <= 10 or abs(200 - n) <= 10)"
   ]
  },
  {
   "cell_type": "code",
   "execution_count": 139,
   "id": "309f2c8c",
   "metadata": {},
   "outputs": [
    {
     "data": {
      "text/plain": [
       "True"
      ]
     },
     "execution_count": 139,
     "metadata": {},
     "output_type": "execute_result"
    }
   ],
   "source": [
    "almost_there(202)"
   ]
  },
  {
   "cell_type": "code",
   "execution_count": 169,
   "id": "5baa29ba",
   "metadata": {},
   "outputs": [],
   "source": [
    "def has33(num):\n",
    "    for i in range(0,len(num)-1):\n",
    "        if num[i] == 3 and num[i+1] == 3: \n",
    "            return True\n",
    "    else:\n",
    "        return False        "
   ]
  },
  {
   "cell_type": "code",
   "execution_count": 173,
   "id": "e2ed8d2e",
   "metadata": {},
   "outputs": [
    {
     "data": {
      "text/plain": [
       "True"
      ]
     },
     "execution_count": 173,
     "metadata": {},
     "output_type": "execute_result"
    }
   ],
   "source": [
    "has33([1,2,3,3,4])"
   ]
  },
  {
   "cell_type": "code",
   "execution_count": 186,
   "id": "c2f6b31e",
   "metadata": {},
   "outputs": [],
   "source": [
    "def doll(text):\n",
    "    res = ''\n",
    "    for word in text:\n",
    "        res += word * 3\n",
    "    return res"
   ]
  },
  {
   "cell_type": "code",
   "execution_count": 188,
   "id": "67249235",
   "metadata": {},
   "outputs": [
    {
     "data": {
      "text/plain": [
       "'dddooollllll'"
      ]
     },
     "execution_count": 188,
     "metadata": {},
     "output_type": "execute_result"
    }
   ],
   "source": [
    "doll('doll')"
   ]
  },
  {
   "cell_type": "code",
   "execution_count": 203,
   "id": "6170f0bc",
   "metadata": {},
   "outputs": [],
   "source": [
    "def blackjack(a,b,c):\n",
    "        if sum((a,b,c)) <= 21:\n",
    "            return sum((a,b,c))\n",
    "        elif sum((a,b,c)) <= 31 and 11 in (a,b,c):\n",
    "            return sum((a,b,c)) - 10\n",
    "        else:\n",
    "            return 'BUST'"
   ]
  },
  {
   "cell_type": "code",
   "execution_count": 204,
   "id": "f87d189f",
   "metadata": {},
   "outputs": [
    {
     "data": {
      "text/plain": [
       "19"
      ]
     },
     "execution_count": 204,
     "metadata": {},
     "output_type": "execute_result"
    }
   ],
   "source": [
    "blackjack(12,3,4)"
   ]
  },
  {
   "cell_type": "code",
   "execution_count": 5,
   "id": "7ee7b9a4",
   "metadata": {
    "scrolled": true
   },
   "outputs": [],
   "source": [
    "a = 4\n",
    "b = 5\n",
    "#print(a+b)"
   ]
  },
  {
   "cell_type": "code",
   "execution_count": 6,
   "id": "9fdf2500",
   "metadata": {},
   "outputs": [
    {
     "ename": "TypeError",
     "evalue": "sum() can't sum strings [use ''.join(seq) instead]",
     "output_type": "error",
     "traceback": [
      "\u001b[1;31m---------------------------------------------------------------------------\u001b[0m",
      "\u001b[1;31mTypeError\u001b[0m                                 Traceback (most recent call last)",
      "\u001b[1;32m~\\AppData\\Local\\Temp\\ipykernel_12260\\120129210.py\u001b[0m in \u001b[0;36m<module>\u001b[1;34m\u001b[0m\n\u001b[1;32m----> 1\u001b[1;33m \u001b[0msum\u001b[0m\u001b[1;33m(\u001b[0m\u001b[0ma\u001b[0m\u001b[1;33m,\u001b[0m\u001b[0mb\u001b[0m\u001b[1;33m)\u001b[0m\u001b[1;33m\u001b[0m\u001b[1;33m\u001b[0m\u001b[0m\n\u001b[0m",
      "\u001b[1;31mTypeError\u001b[0m: sum() can't sum strings [use ''.join(seq) instead]"
     ]
    }
   ],
   "source": [
    "sum(a,b)"
   ]
  },
  {
   "cell_type": "code",
   "execution_count": null,
   "id": "209c3419",
   "metadata": {},
   "outputs": [],
   "source": []
  }
 ],
 "metadata": {
  "kernelspec": {
   "display_name": "Python 3 (ipykernel)",
   "language": "python",
   "name": "python3"
  },
  "language_info": {
   "codemirror_mode": {
    "name": "ipython",
    "version": 3
   },
   "file_extension": ".py",
   "mimetype": "text/x-python",
   "name": "python",
   "nbconvert_exporter": "python",
   "pygments_lexer": "ipython3",
   "version": "3.9.13"
  }
 },
 "nbformat": 4,
 "nbformat_minor": 5
}
