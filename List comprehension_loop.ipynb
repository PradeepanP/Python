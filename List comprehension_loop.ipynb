{
 "cells": [
  {
   "cell_type": "code",
   "execution_count": 1,
   "id": "bb1314e4",
   "metadata": {},
   "outputs": [],
   "source": [
    "# List Comprehensions\n",
    "# Unique way of quickly creating list in python"
   ]
  },
  {
   "cell_type": "code",
   "execution_count": 2,
   "id": "d1c50cfd",
   "metadata": {},
   "outputs": [],
   "source": [
    "mystr = 'hello'\n",
    "mylist = []\n",
    "for i in mystr:\n",
    "    mylist.append(i)"
   ]
  },
  {
   "cell_type": "code",
   "execution_count": 3,
   "id": "ebf1270b",
   "metadata": {},
   "outputs": [
    {
     "data": {
      "text/plain": [
       "['h', 'e', 'l', 'l', 'o']"
      ]
     },
     "execution_count": 3,
     "metadata": {},
     "output_type": "execute_result"
    }
   ],
   "source": [
    "mylist"
   ]
  },
  {
   "cell_type": "code",
   "execution_count": 6,
   "id": "430e9174",
   "metadata": {},
   "outputs": [],
   "source": [
    "mystr1 = 'Hello world'\n",
    "mylist1 = [x for x in mystr1]"
   ]
  },
  {
   "cell_type": "code",
   "execution_count": 7,
   "id": "37f1c378",
   "metadata": {},
   "outputs": [
    {
     "data": {
      "text/plain": [
       "['H', 'e', 'l', 'l', 'o', ' ', 'w', 'o', 'r', 'l', 'd']"
      ]
     },
     "execution_count": 7,
     "metadata": {},
     "output_type": "execute_result"
    }
   ],
   "source": [
    "mylist1"
   ]
  },
  {
   "cell_type": "code",
   "execution_count": 11,
   "id": "31fd15bb",
   "metadata": {},
   "outputs": [],
   "source": [
    "mylist = [x**3 for x in range(0,11)]"
   ]
  },
  {
   "cell_type": "code",
   "execution_count": 12,
   "id": "720fe873",
   "metadata": {
    "scrolled": true
   },
   "outputs": [
    {
     "data": {
      "text/plain": [
       "[0, 1, 8, 27, 64, 125, 216, 343, 512, 729, 1000]"
      ]
     },
     "execution_count": 12,
     "metadata": {},
     "output_type": "execute_result"
    }
   ],
   "source": [
    "mylist"
   ]
  },
  {
   "cell_type": "code",
   "execution_count": 17,
   "id": "4c5c560b",
   "metadata": {},
   "outputs": [],
   "source": [
    "celcius = [-40,20,0,24,36]\n",
    "fahrenheit = [((9/5)*temp + 32) for temp in celcius]"
   ]
  },
  {
   "cell_type": "code",
   "execution_count": 18,
   "id": "03d39448",
   "metadata": {},
   "outputs": [
    {
     "data": {
      "text/plain": [
       "[-40.0, 68.0, 32.0, 75.2, 96.8]"
      ]
     },
     "execution_count": 18,
     "metadata": {},
     "output_type": "execute_result"
    }
   ],
   "source": [
    "fahrenheit"
   ]
  },
  {
   "cell_type": "code",
   "execution_count": 25,
   "id": "9f741201",
   "metadata": {},
   "outputs": [],
   "source": [
    "fahrenheit =[]\n",
    "celcius = (-40,24)\n",
    "for temp in celcius:\n",
    "    fahrenheit.append((9/5)*temp + 32)"
   ]
  },
  {
   "cell_type": "code",
   "execution_count": 28,
   "id": "6b7274e2",
   "metadata": {},
   "outputs": [
    {
     "data": {
      "text/plain": [
       "[-40.0, 75.2]"
      ]
     },
     "execution_count": 28,
     "metadata": {},
     "output_type": "execute_result"
    }
   ],
   "source": [
    "fahrenheit"
   ]
  },
  {
   "cell_type": "code",
   "execution_count": null,
   "id": "9625cef2",
   "metadata": {},
   "outputs": [],
   "source": []
  }
 ],
 "metadata": {
  "kernelspec": {
   "display_name": "Python 3 (ipykernel)",
   "language": "python",
   "name": "python3"
  },
  "language_info": {
   "codemirror_mode": {
    "name": "ipython",
    "version": 3
   },
   "file_extension": ".py",
   "mimetype": "text/x-python",
   "name": "python",
   "nbconvert_exporter": "python",
   "pygments_lexer": "ipython3",
   "version": "3.9.13"
  }
 },
 "nbformat": 4,
 "nbformat_minor": 5
}
