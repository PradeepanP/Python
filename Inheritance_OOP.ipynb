{
 "cells": [
  {
   "cell_type": "code",
   "execution_count": 1,
   "id": "44ed940d",
   "metadata": {},
   "outputs": [],
   "source": [
    "# Inheritance - way to form new classes using the classes that already been defined\n",
    "# ability to reuse the code and reduce the complexity\n",
    "# functions can take more arguments\n",
    "# *** Methods belong to the object they act on ***"
   ]
  },
  {
   "cell_type": "code",
   "execution_count": 69,
   "id": "3aefe85a",
   "metadata": {},
   "outputs": [],
   "source": [
    "class Animal():\n",
    "    #primary class\n",
    "    def __init__(self):\n",
    "        print(\"Animal created\")\n",
    "        \n",
    "    def kingdom(self):\n",
    "        print('Kingdom Animal')\n",
    "        \n",
    "    def wyd(self):\n",
    "        print('Eating')"
   ]
  },
  {
   "cell_type": "code",
   "execution_count": 70,
   "id": "74021541",
   "metadata": {},
   "outputs": [
    {
     "name": "stdout",
     "output_type": "stream",
     "text": [
      "Animal created\n"
     ]
    }
   ],
   "source": [
    "lion = Animal()"
   ]
  },
  {
   "cell_type": "code",
   "execution_count": 71,
   "id": "d6fe2915",
   "metadata": {},
   "outputs": [
    {
     "name": "stdout",
     "output_type": "stream",
     "text": [
      "Eating\n"
     ]
    }
   ],
   "source": [
    "lion.wyd()"
   ]
  },
  {
   "cell_type": "code",
   "execution_count": 79,
   "id": "a57df35e",
   "metadata": {},
   "outputs": [],
   "source": [
    "class Dog(Animal):\n",
    "    #derived class\n",
    "    def __init__(self):\n",
    "        Animal.__init__(self)\n",
    "        print(\"this animmal is dog\")\n",
    "    def wyd(self):\n",
    "        print(\"watching TV\") #overwritting from primary class\n",
    "    "
   ]
  },
  {
   "cell_type": "code",
   "execution_count": 80,
   "id": "22decfba",
   "metadata": {},
   "outputs": [
    {
     "name": "stdout",
     "output_type": "stream",
     "text": [
      "Animal created\n",
      "this animmal is dog\n"
     ]
    }
   ],
   "source": [
    "my_dog = Dog()"
   ]
  },
  {
   "cell_type": "code",
   "execution_count": 81,
   "id": "ef2a71d4",
   "metadata": {},
   "outputs": [
    {
     "name": "stdout",
     "output_type": "stream",
     "text": [
      "Kingdom Animal\n"
     ]
    }
   ],
   "source": [
    "my_dog.kingdom()"
   ]
  },
  {
   "cell_type": "code",
   "execution_count": 83,
   "id": "ed4e2d35",
   "metadata": {},
   "outputs": [
    {
     "name": "stdout",
     "output_type": "stream",
     "text": [
      "watching TV\n"
     ]
    }
   ],
   "source": [
    "my_dog.wyd()"
   ]
  },
  {
   "cell_type": "code",
   "execution_count": null,
   "id": "b8e041dd",
   "metadata": {},
   "outputs": [],
   "source": []
  }
 ],
 "metadata": {
  "kernelspec": {
   "display_name": "Python 3 (ipykernel)",
   "language": "python",
   "name": "python3"
  },
  "language_info": {
   "codemirror_mode": {
    "name": "ipython",
    "version": 3
   },
   "file_extension": ".py",
   "mimetype": "text/x-python",
   "name": "python",
   "nbconvert_exporter": "python",
   "pygments_lexer": "ipython3",
   "version": "3.9.13"
  }
 },
 "nbformat": 4,
 "nbformat_minor": 5
}
