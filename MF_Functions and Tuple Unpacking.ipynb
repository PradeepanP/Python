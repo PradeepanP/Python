{
 "cells": [
  {
   "cell_type": "code",
   "execution_count": 1,
   "id": "5a523516",
   "metadata": {},
   "outputs": [],
   "source": [
    "# Functions helps us to create a block of code that can be executed easily many times without writing the code constantly"
   ]
  },
  {
   "cell_type": "code",
   "execution_count": 2,
   "id": "f8c05df9",
   "metadata": {},
   "outputs": [],
   "source": [
    "# return type allows us to save the results in a variable \n",
    "# print() will just print the result, 'Nonetype'"
   ]
  },
  {
   "cell_type": "code",
   "execution_count": 14,
   "id": "9c8923a2",
   "metadata": {},
   "outputs": [],
   "source": [
    "def say_name(name='defalut'):\n",
    "    print('hello {}'.format(name)) # print(f'hello {name}')"
   ]
  },
  {
   "cell_type": "code",
   "execution_count": 16,
   "id": "f3c596ab",
   "metadata": {},
   "outputs": [
    {
     "name": "stdout",
     "output_type": "stream",
     "text": [
      "hello jose\n"
     ]
    }
   ],
   "source": [
    "say_name('jose')"
   ]
  },
  {
   "cell_type": "code",
   "execution_count": 18,
   "id": "b8514c66",
   "metadata": {},
   "outputs": [],
   "source": [
    "def print_res(a,b):\n",
    "    print(a+b)"
   ]
  },
  {
   "cell_type": "code",
   "execution_count": 21,
   "id": "40c70de1",
   "metadata": {},
   "outputs": [
    {
     "name": "stdout",
     "output_type": "stream",
     "text": [
      "95\n"
     ]
    }
   ],
   "source": [
    "print_res(40,55) # it's just printing out the result"
   ]
  },
  {
   "cell_type": "code",
   "execution_count": 22,
   "id": "d6b60498",
   "metadata": {},
   "outputs": [],
   "source": [
    "def return_res(a,b):\n",
    "    return a+b"
   ]
  },
  {
   "cell_type": "code",
   "execution_count": 24,
   "id": "0d0c1662",
   "metadata": {},
   "outputs": [],
   "source": [
    "result = return_res(40,55)"
   ]
  },
  {
   "cell_type": "code",
   "execution_count": 25,
   "id": "38f2278e",
   "metadata": {},
   "outputs": [
    {
     "data": {
      "text/plain": [
       "95"
      ]
     },
     "execution_count": 25,
     "metadata": {},
     "output_type": "execute_result"
    }
   ],
   "source": [
    "result # in this return method variables are being returned"
   ]
  },
  {
   "cell_type": "code",
   "execution_count": 1,
   "id": "ee922e6e",
   "metadata": {},
   "outputs": [],
   "source": [
    "def check_even(num_list):\n",
    "    my_list =[]\n",
    "    for number in num_list:\n",
    "        if number % 2 == 0:\n",
    "            my_list.append(number)\n",
    "        else:\n",
    "            pass\n",
    "    return my_list"
   ]
  },
  {
   "cell_type": "code",
   "execution_count": 2,
   "id": "3e2d1cb1",
   "metadata": {},
   "outputs": [
    {
     "data": {
      "text/plain": [
       "[2, 4, 6]"
      ]
     },
     "execution_count": 2,
     "metadata": {},
     "output_type": "execute_result"
    }
   ],
   "source": [
    "check_even([1,2,3,4,5,6])"
   ]
  },
  {
   "cell_type": "code",
   "execution_count": 8,
   "id": "945356c5",
   "metadata": {},
   "outputs": [],
   "source": [
    "mylist = [('key1' ,'value1'),('key2 ','value2')] # tuple unpacking"
   ]
  },
  {
   "cell_type": "code",
   "execution_count": 10,
   "id": "a006700c",
   "metadata": {},
   "outputs": [
    {
     "name": "stdout",
     "output_type": "stream",
     "text": [
      "value1\n",
      "value2\n"
     ]
    }
   ],
   "source": [
    "for key,val in mylist:\n",
    "    print(val)"
   ]
  },
  {
   "cell_type": "code",
   "execution_count": null,
   "id": "79fe5a95",
   "metadata": {},
   "outputs": [],
   "source": []
  }
 ],
 "metadata": {
  "kernelspec": {
   "display_name": "Python 3 (ipykernel)",
   "language": "python",
   "name": "python3"
  },
  "language_info": {
   "codemirror_mode": {
    "name": "ipython",
    "version": 3
   },
   "file_extension": ".py",
   "mimetype": "text/x-python",
   "name": "python",
   "nbconvert_exporter": "python",
   "pygments_lexer": "ipython3",
   "version": "3.9.13"
  }
 },
 "nbformat": 4,
 "nbformat_minor": 5
}
