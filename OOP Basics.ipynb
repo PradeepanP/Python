{
 "cells": [
  {
   "cell_type": "code",
   "execution_count": null,
   "id": "57999bc1",
   "metadata": {},
   "outputs": [],
   "source": [
    "#OOP allows programmers to create objects which has it's own methods and attributes\n",
    "# class - user defined object"
   ]
  },
  {
   "cell_type": "code",
   "execution_count": 39,
   "id": "20643df3",
   "metadata": {},
   "outputs": [],
   "source": [
    "class Dog():\n",
    "    #class object attributes - something that should be true when you have any instance of a class\n",
    "    species = 'mammal'\n",
    "    \n",
    "    #constructor - accepts the values that are given at the initializtion of obj.\n",
    "    def __init__(self,breed,name,spots): #init - initializes - constructor that alloc. size of obj.\n",
    "        #attributes - char of obj. that we call back\n",
    "        #self - updates for obj. based which obj. we are calling - if we have more than one obj. we can refer it to one object\n",
    "        #self - helps the attribute connect to the object\n",
    "        #self - accessing the data members of the class\n",
    "        # ***SELF.VARIBALE - REFER A VARIABLE INSIDE THE CLASS***\n",
    "        self.breed = breed\n",
    "        self.name = name\n",
    "        self.spots = spots\n",
    "    #method - action that an actual object contains\n",
    "    def bark(self,number):\n",
    "        print('OOFF! my name is {} and I am {} years old'.format(self.name,number))# didn't used self for number because it is provided in the method and it is not \n",
    "        #referencing some particular attributes for the instance for the class\n",
    "        "
   ]
  },
  {
   "cell_type": "code",
   "execution_count": 40,
   "id": "b1c8a61a",
   "metadata": {},
   "outputs": [],
   "source": [
    "my_dog = Dog(breed = 'shitzu',name='momo',spots= False)"
   ]
  },
  {
   "cell_type": "code",
   "execution_count": 41,
   "id": "d53da61c",
   "metadata": {},
   "outputs": [
    {
     "data": {
      "text/plain": [
       "__main__.Dog"
      ]
     },
     "execution_count": 41,
     "metadata": {},
     "output_type": "execute_result"
    }
   ],
   "source": [
    "type(my_dog)"
   ]
  },
  {
   "cell_type": "code",
   "execution_count": 42,
   "id": "1962ff18",
   "metadata": {},
   "outputs": [
    {
     "data": {
      "text/plain": [
       "False"
      ]
     },
     "execution_count": 42,
     "metadata": {},
     "output_type": "execute_result"
    }
   ],
   "source": [
    "my_dog.spots"
   ]
  },
  {
   "cell_type": "code",
   "execution_count": 43,
   "id": "e4cb2aaf",
   "metadata": {},
   "outputs": [
    {
     "name": "stdout",
     "output_type": "stream",
     "text": [
      "OOFF! my name is momo and I am 2 years old\n"
     ]
    }
   ],
   "source": [
    "my_dog.bark(2)"
   ]
  },
  {
   "cell_type": "code",
   "execution_count": 152,
   "id": "1e61f7ef",
   "metadata": {},
   "outputs": [],
   "source": [
    "class Circle():\n",
    "    #class obj. att.\n",
    "    pi = 3.14\n",
    "    def __init__(self,area,radius=1): #default value- can be overwritten later\n",
    "        self.radius = radius\n",
    "        self.area = self.pi*self.radius**2\n",
    "    def find_cirumference(self):\n",
    "        return self.pi*self.radius*2"
   ]
  },
  {
   "cell_type": "code",
   "execution_count": 156,
   "id": "5e446cb4",
   "metadata": {},
   "outputs": [],
   "source": [
    "my_circle = Circle(25,30)"
   ]
  },
  {
   "cell_type": "code",
   "execution_count": 157,
   "id": "da354293",
   "metadata": {},
   "outputs": [
    {
     "data": {
      "text/plain": [
       "30"
      ]
     },
     "execution_count": 157,
     "metadata": {},
     "output_type": "execute_result"
    }
   ],
   "source": [
    "my_circle.radius"
   ]
  },
  {
   "cell_type": "code",
   "execution_count": 158,
   "id": "91a27b13",
   "metadata": {},
   "outputs": [
    {
     "data": {
      "text/plain": [
       "188.4"
      ]
     },
     "execution_count": 158,
     "metadata": {},
     "output_type": "execute_result"
    }
   ],
   "source": [
    "my_circle.find_cirumference()"
   ]
  },
  {
   "cell_type": "code",
   "execution_count": 159,
   "id": "11e5fc3d",
   "metadata": {},
   "outputs": [
    {
     "data": {
      "text/plain": [
       "2826.0"
      ]
     },
     "execution_count": 159,
     "metadata": {},
     "output_type": "execute_result"
    }
   ],
   "source": [
    "my_circle.area"
   ]
  },
  {
   "cell_type": "code",
   "execution_count": 143,
   "id": "ff9a2be5",
   "metadata": {},
   "outputs": [],
   "source": [
    "class Example():\n",
    "    a = 10 # global variable can be accessed by using self.var_name\n",
    "    def add(self,a)# here a is a local var used only inside a method\n",
    "        return a,self.a"
   ]
  },
  {
   "cell_type": "code",
   "execution_count": 144,
   "id": "6a4dc602",
   "metadata": {},
   "outputs": [],
   "source": [
    "obj = Example()"
   ]
  },
  {
   "cell_type": "code",
   "execution_count": 150,
   "id": "6180076e",
   "metadata": {},
   "outputs": [
    {
     "data": {
      "text/plain": [
       "(100, 10)"
      ]
     },
     "execution_count": 150,
     "metadata": {},
     "output_type": "execute_result"
    }
   ],
   "source": [
    "obj.add(100)"
   ]
  },
  {
   "cell_type": "code",
   "execution_count": null,
   "id": "615af7f9",
   "metadata": {},
   "outputs": [],
   "source": []
  }
 ],
 "metadata": {
  "kernelspec": {
   "display_name": "Python 3 (ipykernel)",
   "language": "python",
   "name": "python3"
  },
  "language_info": {
   "codemirror_mode": {
    "name": "ipython",
    "version": 3
   },
   "file_extension": ".py",
   "mimetype": "text/x-python",
   "name": "python",
   "nbconvert_exporter": "python",
   "pygments_lexer": "ipython3",
   "version": "3.9.13"
  }
 },
 "nbformat": 4,
 "nbformat_minor": 5
}
